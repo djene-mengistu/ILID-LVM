{
 "cells": [
  {
   "cell_type": "code",
   "execution_count": null,
   "metadata": {},
   "outputs": [],
   "source": [
    "import orjson\n",
    "import numpy as np\n",
    "from collections import defaultdict\n",
    "import matplotlib.pyplot as plt\n",
    "from matplotlib.font_manager import FontProperties"
   ]
  },
  {
   "cell_type": "code",
   "execution_count": null,
   "metadata": {},
   "outputs": [],
   "source": [
    "import matplotlib.font_manager\n",
    "\n",
    "available_fonts = sorted([(f.name, f.variant) for f in matplotlib.font_manager.fontManager.ttflist])\n",
    "for (name, variant) in available_fonts:\n",
    "    print(name, variant)"
   ]
  },
  {
   "cell_type": "code",
   "execution_count": null,
   "metadata": {},
   "outputs": [],
   "source": [
    "def count(filepath, field=None, value=None):\n",
    "    with open(filepath, 'rb') as f:\n",
    "        dataset = orjson.loads(f.read())\n",
    "        if field is not None and value is not None:\n",
    "            dataset = [x[field] for x in dataset if x[field] == value]\n",
    "        return len(dataset)"
   ]
  },
  {
   "cell_type": "code",
   "execution_count": null,
   "metadata": {},
   "outputs": [],
   "source": [
    "def count_words(filepath, field):\n",
    "    with open(filepath, 'rb') as f:\n",
    "        dataset = orjson.loads(f.read())\n",
    "        words = defaultdict()\n",
    "        for x in dataset:\n",
    "            if x[field] is None:\n",
    "                continue\n",
    "            item = x[field].split()\n",
    "            for word in item:\n",
    "                word = word.strip().lower()\n",
    "                word = word.replace('.', '').replace(',', '')\n",
    "                if word is not None:\n",
    "                    if word not in words:\n",
    "                        words[word] = 1\n",
    "                    else:\n",
    "                        words[word] += 1\n",
    "        words = dict(sorted(words.items(), key=lambda item: item[1], reverse=True))\n",
    "        return words"
   ]
  },
  {
   "cell_type": "code",
   "execution_count": null,
   "metadata": {},
   "outputs": [],
   "source": [
    "def count_unique_labels(filepath, field):\n",
    "    with open(filepath, 'rb') as f:\n",
    "        dataset = orjson.loads(f.read())\n",
    "        labels = defaultdict()\n",
    "        for x in dataset:\n",
    "            if x[field] is None:\n",
    "                continue\n",
    "            item = x[field]\n",
    "            if item not in labels:\n",
    "                labels[item] = 1\n",
    "            else:\n",
    "                labels[item] += 1\n",
    "        return labels"
   ]
  },
  {
   "cell_type": "code",
   "execution_count": null,
   "metadata": {},
   "outputs": [],
   "source": [
    "colors = []\n",
    "colors.append((23, 131, 232))\n",
    "colors.append((2, 38, 110))\n",
    "colors.append((185, 208, 241))\n",
    "colors.append((118, 205, 3))\n",
    "colors.append((162, 0, 0))\n",
    "colors = [tuple(np.array(c) / 255.0) for c in colors]"
   ]
  },
  {
   "cell_type": "code",
   "execution_count": null,
   "metadata": {},
   "outputs": [],
   "source": [
    "print(f\"Number of records in the dataset %d.\" % count(\"data/ilid.json\"))"
   ]
  },
  {
   "cell_type": "code",
   "execution_count": null,
   "metadata": {},
   "outputs": [],
   "source": [
    "print(f\"Number of records %d for %s.\" % (count(\"data/ilid.json\", \"label_short\", \"grid plate clamping system\"), \"grid plate clamping system\"))"
   ]
  },
  {
   "cell_type": "code",
   "execution_count": null,
   "metadata": {},
   "outputs": [],
   "source": [
    "words_dict = count_words(\"data/ilid.json\", \"label_long\")\n",
    "print(f\"Number of unique words in the dataset %d.\" % len(words_dict))\n",
    "print(f\"Number of words in the dataset %d.\" % sum(words_dict.values()))\n",
    "print(f\"Number of word x in the dataset %d.\" % words_dict[\"collet\"])"
   ]
  },
  {
   "cell_type": "code",
   "execution_count": null,
   "metadata": {},
   "outputs": [],
   "source": [
    "print(f\"Number of unique labels in the dataset %d under label %s.\" % (len(count_unique_labels(\"data/ilid.json\", \"label_short\")), \"label_short\"))\n",
    "print(f\"Number of unique labels in the dataset %d under label %s.\" % (len(count_unique_labels(\"data/ilid.json\", \"label_long\")), \"label_long\"))\n",
    "print(f\"Number of unique labels in the dataset %d under label %s.\" % (len(count_unique_labels(\"data/ilid.json\", \"material\")), \"material\"))\n",
    "print(f\"Number of unique labels in the dataset %d under label %s.\" % (len(count_unique_labels(\"data/ilid.json\", \"material_finish\")), \"material_finish\"))\n",
    "print(f\"Number of unique labels in the dataset %d under label %s.\" % (len(count_unique_labels(\"data/ilid.json\", \"description\")), \"description\"))"
   ]
  },
  {
   "cell_type": "code",
   "execution_count": null,
   "metadata": {},
   "outputs": [],
   "source": [
    "words_dict = count_words(\"data/ilid.json\", \"material\")\n",
    "top_n = 40\n",
    "words = list(words_dict.keys())[:top_n]\n",
    "counts = list(words_dict.values())[:top_n]\n",
    "\n",
    "font = FontProperties()\n",
    "font.set_name('Arial')\n",
    "\n",
    "plt.figure(figsize=(10, 5))\n",
    "plt.bar(words, counts, color=colors[1], zorder=3)\n",
    "plt.yscale('log')\n",
    "\n",
    "lines = [2000, 1000, 900, 800, 700, 600, 500, 400, 300, 200]\n",
    "for line in lines:\n",
    "    plt.axhline(y=line, color='lightgrey', linewidth=0.4, zorder=1, linestyle='--')\n",
    "\n",
    "#plt.xlabel('Words', fontproperties=font, fontweight='bold', fontsize=18)\n",
    "#plt.ylabel('Word Occurrences', fontproperties=font, fontweight='bold', fontsize=14)\n",
    "plt.xticks(rotation=60, ha=\"right\", fontproperties=font)\n",
    "\n",
    "plt.subplots_adjust(bottom=0.17, top=0.98, left=0.04, right=0.99)\n",
    "plt.savefig('word_occurrences.png', dpi=300)"
   ]
  }
 ],
 "metadata": {
  "kernelspec": {
   "display_name": "industrial-clip",
   "language": "python",
   "name": "python3"
  },
  "language_info": {
   "codemirror_mode": {
    "name": "ipython",
    "version": 3
   },
   "file_extension": ".py",
   "mimetype": "text/x-python",
   "name": "python",
   "nbconvert_exporter": "python",
   "pygments_lexer": "ipython3",
   "version": "3.8.19"
  }
 },
 "nbformat": 4,
 "nbformat_minor": 2
}
